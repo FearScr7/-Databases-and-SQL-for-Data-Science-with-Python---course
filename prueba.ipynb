{
 "cells": [
  {
   "cell_type": "code",
   "execution_count": 17,
   "id": "fff9db83",
   "metadata": {},
   "outputs": [
    {
     "name": "stdout",
     "output_type": "stream",
     "text": [
      "The sql extension is already loaded. To reload it, use:\n",
      "  %reload_ext sql\n",
      " * sqlite:///FinalDB.db\n",
      "Done.\n",
      " * sqlite:///FinalDB.db\n",
      "Done.\n",
      " * sqlite:///FinalDB.db\n",
      "Done.\n",
      " * sqlite:///FinalDB.db\n",
      "Done.\n",
      " * sqlite:///FinalDB.db\n",
      "Done.\n",
      " * sqlite:///FinalDB.db\n",
      "Done.\n",
      " * sqlite:///FinalDB.db\n",
      "Done.\n",
      " * sqlite:///FinalDB.db\n",
      "Done.\n",
      " * sqlite:///FinalDB.db\n",
      "Done.\n"
     ]
    },
    {
     "data": {
      "text/html": [
       "<table>\n",
       "    <thead>\n",
       "        <tr>\n",
       "            <th>COMMUNITY_AREA_NAME</th>\n",
       "        </tr>\n",
       "    </thead>\n",
       "    <tbody>\n",
       "        <tr>\n",
       "            <td>Riverdale</td>\n",
       "        </tr>\n",
       "    </tbody>\n",
       "</table>"
      ],
      "text/plain": [
       "[('Riverdale',)]"
      ]
     },
     "execution_count": 17,
     "metadata": {},
     "output_type": "execute_result"
    }
   ],
   "source": [
    "import pandas as pd, prettytable, sqlite3\n",
    "\n",
    "prettytable.DEFAULT = 'DEFAULT'\n",
    "conn = sqlite3.connect('FinalDB.db')\n",
    "\n",
    "# census_csv = pd.read_csv('ChicagoCensusData.csv')\n",
    "# crime_csv = pd.read_csv('ChicagoCrimeData.csv')\n",
    "# schools_csv = pd.read_csv('ChicagoPublicSchools.csv')\n",
    "\n",
    "\n",
    "# census_csv.to_sql('CENSUS_DATA', conn)\n",
    "# crime_csv.to_sql('CHICAGO_CRIME_DATA', conn)\n",
    "# schools_csv.to_sql('CHICAGO_PUBLIC_SCHOOLS', conn)\n",
    "\n",
    "# 1| CENSUS_DATA\n",
    "# 2| CHICAGO_CRIME_DATA\n",
    "# 3| CHICAGO_PUBLIC_SCHOOLS\n",
    "\n",
    "\n",
    "%load_ext sql\n",
    "%sql sqlite:///FinalDB.db\n",
    "#Find the total number of crimes recorded in the CRIME table.\n",
    "%sql SELECT COUNT([index]) FROM CHICAGO_CRIME_DATA\n",
    "\n",
    "#List community area names and numbers with per capita income less than 11000.\n",
    "%sql SELECT COMMUNITY_AREA_NAME FROM CENSUS_DATA WHERE PER_CAPITA_INCOME < 11000 \n",
    "\n",
    "#List all case numbers for crimes involving minors?(children are not considered minors for the purposes of crime analysis)\n",
    "%sql SELECT * FROM CHICAGO_CRIME_DATA WHERE DESCRIPTION LIKE '%MINOR%'\n",
    "\n",
    "#List all kidnapping crimes involving a child?\n",
    "%sql SELECT * FROM CHICAGO_CRIME_DATA WHERE DESCRIPTION LIKE '%CHILD%' AND PRIMARY_TYPE = 'KIDNAPPING'\n",
    "\n",
    "#List the kind of crimes that were recorded at schools. (No repetitions)\n",
    "%sql SELECT DISTINCT PRIMARY_TYPE FROM CHICAGO_CRIME_DATA\n",
    "\n",
    "#List the type of schools along with the average safety score for each type.\n",
    "%sql SELECT [Elementary, Middle, or High School], AVG(SAFETY_SCORE) AS [Safety Score] FROM CHICAGO_PUBLIC_SCHOOLS GROUP BY [Elementary, Middle, or High School]\n",
    "\n",
    "#List 5 community areas with highest % of households below poverty line\n",
    "%sql SELECT COMMUNITY_AREA_NAME NAME, PERCENT_HOUSEHOLDS_BELOW_POVERTY AS PERCENT, COMMUNITY_AREA_NUMBER AS AREA FROM CENSUS_DATA ORDER BY PERCENT_HOUSEHOLDS_BELOW_POVERTY DESC LIMIT 5\n",
    "\n",
    "#Which community area is most crime prone? Display the coumminty area number only.\n",
    "%sql SELECT COMMUNITY_AREA_NUMBER FROM CHICAGO_CRIME_DATA GROUP BY COMMUNITY_AREA_NUMBER ORDER BY COUNT(*) DESC LIMIT 1\n",
    "\n",
    "#Use a sub-query to find the name of the community area with highest hardship index\n",
    "%sql SELECT COMMUNITY_AREA_NAME FROM CENSUS_DATA WHERE HARDSHIP_INDEX = (SELECT MAX(HARDSHIP_INDEX) FROM CENSUS_DATA)\n",
    "\n"
   ]
  }
 ],
 "metadata": {
  "kernelspec": {
   "display_name": ".venv (3.11.9)",
   "language": "python",
   "name": "python3"
  },
  "language_info": {
   "codemirror_mode": {
    "name": "ipython",
    "version": 3
   },
   "file_extension": ".py",
   "mimetype": "text/x-python",
   "name": "python",
   "nbconvert_exporter": "python",
   "pygments_lexer": "ipython3",
   "version": "3.11.9"
  }
 },
 "nbformat": 4,
 "nbformat_minor": 5
}
